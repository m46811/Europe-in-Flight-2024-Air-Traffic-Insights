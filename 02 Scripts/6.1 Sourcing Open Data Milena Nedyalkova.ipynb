{
 "cells": [
  {
   "cell_type": "markdown",
   "id": "bdaf190d-84fe-446a-89d8-7628a0c79073",
   "metadata": {},
   "source": [
    "### Sourcing Open Data - Airport Traffic 2024"
   ]
  },
  {
   "cell_type": "code",
   "execution_count": 56,
   "id": "34fe6b58-8542-42c8-9377-587ec362285e",
   "metadata": {},
   "outputs": [],
   "source": [
    "# Import the libiraties and the data set\n",
    "import pandas as pd\n",
    "import os\n",
    "\n",
    "# File path and name\n",
    "data_path = r'C:\\\\Users\\\\PC\\\\Desktop\\\\CareerFoundry Data Analytics\\\\airport_traffic_2024.csv'\n",
    "data = pd.read_csv(data_path)"
   ]
  },
  {
   "cell_type": "code",
   "execution_count": 57,
   "id": "cd200bb5-1f10-4a2e-82e3-26ee7e683473",
   "metadata": {},
   "outputs": [],
   "source": [
    "## Structure check and data types"
   ]
  },
  {
   "cell_type": "code",
   "execution_count": 58,
   "id": "106e4feb-2485-49dc-97a7-631c4319ca4a",
   "metadata": {},
   "outputs": [
    {
     "name": "stdout",
     "output_type": "stream",
     "text": [
      "<class 'pandas.core.frame.DataFrame'>\n",
      "RangeIndex: 114754 entries, 0 to 114753\n",
      "Data columns (total 13 columns):\n",
      " #   Column         Non-Null Count   Dtype  \n",
      "---  ------         --------------   -----  \n",
      " 0   YEAR           114754 non-null  int64  \n",
      " 1   MONTH_NUM      114754 non-null  int64  \n",
      " 2   MONTH_MON      114754 non-null  object \n",
      " 3   FLT_DATE       114754 non-null  object \n",
      " 4   APT_ICAO       114754 non-null  object \n",
      " 5   APT_NAME       114754 non-null  object \n",
      " 6   STATE_NAME     114754 non-null  object \n",
      " 7   FLT_DEP_1      114754 non-null  int64  \n",
      " 8   FLT_ARR_1      114754 non-null  int64  \n",
      " 9   FLT_TOT_1      114754 non-null  int64  \n",
      " 10  FLT_DEP_IFR_2  33164 non-null   float64\n",
      " 11  FLT_ARR_IFR_2  33164 non-null   float64\n",
      " 12  FLT_TOT_IFR_2  33164 non-null   float64\n",
      "dtypes: float64(3), int64(5), object(5)\n",
      "memory usage: 11.4+ MB\n"
     ]
    }
   ],
   "source": [
    "data.info()"
   ]
  },
  {
   "cell_type": "code",
   "execution_count": 59,
   "id": "21436fce-755e-4d1c-a5ea-db9d17f6afb6",
   "metadata": {},
   "outputs": [
    {
     "data": {
      "text/plain": [
       "(114754, 13)"
      ]
     },
     "execution_count": 59,
     "metadata": {},
     "output_type": "execute_result"
    }
   ],
   "source": [
    "data.shape"
   ]
  },
  {
   "cell_type": "code",
   "execution_count": 60,
   "id": "e4eabbf0-494e-42be-926a-98e21f5c1142",
   "metadata": {},
   "outputs": [
    {
     "data": {
      "text/html": [
       "<div>\n",
       "<style scoped>\n",
       "    .dataframe tbody tr th:only-of-type {\n",
       "        vertical-align: middle;\n",
       "    }\n",
       "\n",
       "    .dataframe tbody tr th {\n",
       "        vertical-align: top;\n",
       "    }\n",
       "\n",
       "    .dataframe thead th {\n",
       "        text-align: right;\n",
       "    }\n",
       "</style>\n",
       "<table border=\"1\" class=\"dataframe\">\n",
       "  <thead>\n",
       "    <tr style=\"text-align: right;\">\n",
       "      <th></th>\n",
       "      <th>YEAR</th>\n",
       "      <th>MONTH_NUM</th>\n",
       "      <th>MONTH_MON</th>\n",
       "      <th>FLT_DATE</th>\n",
       "      <th>APT_ICAO</th>\n",
       "      <th>APT_NAME</th>\n",
       "      <th>STATE_NAME</th>\n",
       "      <th>FLT_DEP_1</th>\n",
       "      <th>FLT_ARR_1</th>\n",
       "      <th>FLT_TOT_1</th>\n",
       "      <th>FLT_DEP_IFR_2</th>\n",
       "      <th>FLT_ARR_IFR_2</th>\n",
       "      <th>FLT_TOT_IFR_2</th>\n",
       "    </tr>\n",
       "  </thead>\n",
       "  <tbody>\n",
       "    <tr>\n",
       "      <th>0</th>\n",
       "      <td>2024</td>\n",
       "      <td>1</td>\n",
       "      <td>JAN</td>\n",
       "      <td>2024-01-01</td>\n",
       "      <td>LATI</td>\n",
       "      <td>Tirana</td>\n",
       "      <td>Albania</td>\n",
       "      <td>73</td>\n",
       "      <td>74</td>\n",
       "      <td>147</td>\n",
       "      <td>NaN</td>\n",
       "      <td>NaN</td>\n",
       "      <td>NaN</td>\n",
       "    </tr>\n",
       "    <tr>\n",
       "      <th>1</th>\n",
       "      <td>2024</td>\n",
       "      <td>1</td>\n",
       "      <td>JAN</td>\n",
       "      <td>2024-01-01</td>\n",
       "      <td>UDYZ</td>\n",
       "      <td>Yerevan</td>\n",
       "      <td>Armenia</td>\n",
       "      <td>52</td>\n",
       "      <td>48</td>\n",
       "      <td>100</td>\n",
       "      <td>NaN</td>\n",
       "      <td>NaN</td>\n",
       "      <td>NaN</td>\n",
       "    </tr>\n",
       "    <tr>\n",
       "      <th>2</th>\n",
       "      <td>2024</td>\n",
       "      <td>1</td>\n",
       "      <td>JAN</td>\n",
       "      <td>2024-01-01</td>\n",
       "      <td>LOWG</td>\n",
       "      <td>Graz</td>\n",
       "      <td>Austria</td>\n",
       "      <td>6</td>\n",
       "      <td>8</td>\n",
       "      <td>14</td>\n",
       "      <td>NaN</td>\n",
       "      <td>NaN</td>\n",
       "      <td>NaN</td>\n",
       "    </tr>\n",
       "    <tr>\n",
       "      <th>3</th>\n",
       "      <td>2024</td>\n",
       "      <td>1</td>\n",
       "      <td>JAN</td>\n",
       "      <td>2024-01-01</td>\n",
       "      <td>LOWI</td>\n",
       "      <td>Innsbruck</td>\n",
       "      <td>Austria</td>\n",
       "      <td>22</td>\n",
       "      <td>25</td>\n",
       "      <td>47</td>\n",
       "      <td>NaN</td>\n",
       "      <td>NaN</td>\n",
       "      <td>NaN</td>\n",
       "    </tr>\n",
       "    <tr>\n",
       "      <th>4</th>\n",
       "      <td>2024</td>\n",
       "      <td>1</td>\n",
       "      <td>JAN</td>\n",
       "      <td>2024-01-01</td>\n",
       "      <td>LOWK</td>\n",
       "      <td>Klagenfurt</td>\n",
       "      <td>Austria</td>\n",
       "      <td>2</td>\n",
       "      <td>2</td>\n",
       "      <td>4</td>\n",
       "      <td>NaN</td>\n",
       "      <td>NaN</td>\n",
       "      <td>NaN</td>\n",
       "    </tr>\n",
       "  </tbody>\n",
       "</table>\n",
       "</div>"
      ],
      "text/plain": [
       "   YEAR  MONTH_NUM MONTH_MON    FLT_DATE APT_ICAO    APT_NAME STATE_NAME  \\\n",
       "0  2024          1       JAN  2024-01-01     LATI      Tirana    Albania   \n",
       "1  2024          1       JAN  2024-01-01     UDYZ     Yerevan    Armenia   \n",
       "2  2024          1       JAN  2024-01-01     LOWG        Graz    Austria   \n",
       "3  2024          1       JAN  2024-01-01     LOWI   Innsbruck    Austria   \n",
       "4  2024          1       JAN  2024-01-01     LOWK  Klagenfurt    Austria   \n",
       "\n",
       "   FLT_DEP_1  FLT_ARR_1  FLT_TOT_1  FLT_DEP_IFR_2  FLT_ARR_IFR_2  \\\n",
       "0         73         74        147            NaN            NaN   \n",
       "1         52         48        100            NaN            NaN   \n",
       "2          6          8         14            NaN            NaN   \n",
       "3         22         25         47            NaN            NaN   \n",
       "4          2          2          4            NaN            NaN   \n",
       "\n",
       "   FLT_TOT_IFR_2  \n",
       "0            NaN  \n",
       "1            NaN  \n",
       "2            NaN  \n",
       "3            NaN  \n",
       "4            NaN  "
      ]
     },
     "execution_count": 60,
     "metadata": {},
     "output_type": "execute_result"
    }
   ],
   "source": [
    "data.head(5)"
   ]
  },
  {
   "cell_type": "markdown",
   "id": "bf4f7628-5bc8-4f63-b400-1bd3fd949708",
   "metadata": {},
   "source": [
    "According to the source, the column FLT_TOT_1 represents the total number of flights reported by the Network Manager (NM – 114.754 values). The last column, FLT_TOT_IFR2, also reports the total number of flights, but as provided by the Airport Operator (AO). Since there are only 33.164 AO values, this column cannot be used to cross-match the NM numbers. Therefore, the last three columns will be dropped and excluded from further analysis.\n",
    "https://ansperformance.eu/reference/dataset/airport-traffic/"
   ]
  },
  {
   "cell_type": "code",
   "execution_count": 78,
   "id": "28f46ecb-b864-4693-a855-312569721bea",
   "metadata": {},
   "outputs": [
    {
     "name": "stdout",
     "output_type": "stream",
     "text": [
      "Year                       1\n",
      "Month Code                12\n",
      "Month                     12\n",
      "Flight Date              366\n",
      "Airport ICAO Code        331\n",
      "Airport Name             331\n",
      "Country                   42\n",
      "Number of Departures     781\n",
      "Number of Arrivals       783\n",
      "Total flights           1527\n",
      "dtype: int64\n"
     ]
    }
   ],
   "source": [
    "print(data.nunique())"
   ]
  },
  {
   "cell_type": "code",
   "execution_count": 61,
   "id": "de3dad18-b76c-4f65-950e-2a0d15240fb9",
   "metadata": {},
   "outputs": [],
   "source": [
    "## Check for missing values"
   ]
  },
  {
   "cell_type": "code",
   "execution_count": 62,
   "id": "d0ab832a-5ebb-4885-a8a8-550aeda6bf65",
   "metadata": {},
   "outputs": [
    {
     "name": "stdout",
     "output_type": "stream",
     "text": [
      "YEAR                 0\n",
      "MONTH_NUM            0\n",
      "MONTH_MON            0\n",
      "FLT_DATE             0\n",
      "APT_ICAO             0\n",
      "APT_NAME             0\n",
      "STATE_NAME           0\n",
      "FLT_DEP_1            0\n",
      "FLT_ARR_1            0\n",
      "FLT_TOT_1            0\n",
      "FLT_DEP_IFR_2    81590\n",
      "FLT_ARR_IFR_2    81590\n",
      "FLT_TOT_IFR_2    81590\n",
      "dtype: int64\n"
     ]
    }
   ],
   "source": [
    "missing_values = data.isnull().sum()\n",
    "print(missing_values)"
   ]
  },
  {
   "cell_type": "markdown",
   "id": "b7553d6e-6eee-406e-8864-b3eb9beae7fa",
   "metadata": {},
   "source": [
    "Since the data info and shape show that all relevant columns contain the same number of values (114.754) with no missing entries, this step can be skipped for this dataset."
   ]
  },
  {
   "cell_type": "code",
   "execution_count": 63,
   "id": "e8869462-47c5-49ea-8af1-c909bfe101ff",
   "metadata": {},
   "outputs": [],
   "source": [
    "## Remove the columns that are not required for the analysis "
   ]
  },
  {
   "cell_type": "code",
   "execution_count": 64,
   "id": "dd1adbdd-f350-4913-a809-20829639504c",
   "metadata": {},
   "outputs": [],
   "source": [
    "columns_to_drop = ['FLT_DEP_IFR_2' , 'FLT_ARR_IFR_2' , 'FLT_TOT_IFR_2']"
   ]
  },
  {
   "cell_type": "code",
   "execution_count": 65,
   "id": "96657770-a4c4-4ed8-87a2-d732ed8aabca",
   "metadata": {
    "scrolled": true
   },
   "outputs": [],
   "source": [
    "data = data.drop(columns = columns_to_drop, errors = 'ignore')"
   ]
  },
  {
   "cell_type": "code",
   "execution_count": 66,
   "id": "c4436f95-bf03-4764-87a4-af81da6aa92e",
   "metadata": {},
   "outputs": [
    {
     "data": {
      "text/plain": [
       "(114754, 10)"
      ]
     },
     "execution_count": 66,
     "metadata": {},
     "output_type": "execute_result"
    }
   ],
   "source": [
    "data.shape"
   ]
  },
  {
   "cell_type": "code",
   "execution_count": 67,
   "id": "4f319bcc-4e10-41d5-a401-1db11105bc50",
   "metadata": {},
   "outputs": [],
   "source": [
    "## Rename columns for better clarity and understanding"
   ]
  },
  {
   "cell_type": "code",
   "execution_count": 68,
   "id": "17a88d72-47e8-435a-bd0b-b93c57ad2242",
   "metadata": {},
   "outputs": [],
   "source": [
    "data = data.rename(columns={\n",
    "    'YEAR': 'Year',\n",
    "    'MONTH_NUM' : 'Month Code',           \n",
    "    'MONTH_MON' : 'Month' ,            \n",
    "    'FLT_DATE' : 'Flight Date' ,            \n",
    "    'APT_ICAO' : 'Airport ICAO Code',              \n",
    "    'APT_NAME' : 'Airport Name' ,             \n",
    "    'STATE_NAME' : 'Country' ,            \n",
    "    'FLT_DEP_1' : 'Number of Departures' ,             \n",
    "    'FLT_ARR_1' : 'Number of Arrivals',        \n",
    "    'FLT_TOT_1' : 'Total flights'\n",
    "})"
   ]
  },
  {
   "cell_type": "code",
   "execution_count": 69,
   "id": "12b4c771-bdf7-46d0-957b-2a59c50c8cf2",
   "metadata": {},
   "outputs": [
    {
     "data": {
      "text/html": [
       "<div>\n",
       "<style scoped>\n",
       "    .dataframe tbody tr th:only-of-type {\n",
       "        vertical-align: middle;\n",
       "    }\n",
       "\n",
       "    .dataframe tbody tr th {\n",
       "        vertical-align: top;\n",
       "    }\n",
       "\n",
       "    .dataframe thead th {\n",
       "        text-align: right;\n",
       "    }\n",
       "</style>\n",
       "<table border=\"1\" class=\"dataframe\">\n",
       "  <thead>\n",
       "    <tr style=\"text-align: right;\">\n",
       "      <th></th>\n",
       "      <th>Year</th>\n",
       "      <th>Month Code</th>\n",
       "      <th>Month</th>\n",
       "      <th>Flight Date</th>\n",
       "      <th>Airport ICAO Code</th>\n",
       "      <th>Airport Name</th>\n",
       "      <th>Country</th>\n",
       "      <th>Number of Departures</th>\n",
       "      <th>Number of Arrivals</th>\n",
       "      <th>Total flights</th>\n",
       "    </tr>\n",
       "  </thead>\n",
       "  <tbody>\n",
       "    <tr>\n",
       "      <th>0</th>\n",
       "      <td>2024</td>\n",
       "      <td>1</td>\n",
       "      <td>JAN</td>\n",
       "      <td>2024-01-01</td>\n",
       "      <td>LATI</td>\n",
       "      <td>Tirana</td>\n",
       "      <td>Albania</td>\n",
       "      <td>73</td>\n",
       "      <td>74</td>\n",
       "      <td>147</td>\n",
       "    </tr>\n",
       "    <tr>\n",
       "      <th>1</th>\n",
       "      <td>2024</td>\n",
       "      <td>1</td>\n",
       "      <td>JAN</td>\n",
       "      <td>2024-01-01</td>\n",
       "      <td>UDYZ</td>\n",
       "      <td>Yerevan</td>\n",
       "      <td>Armenia</td>\n",
       "      <td>52</td>\n",
       "      <td>48</td>\n",
       "      <td>100</td>\n",
       "    </tr>\n",
       "    <tr>\n",
       "      <th>2</th>\n",
       "      <td>2024</td>\n",
       "      <td>1</td>\n",
       "      <td>JAN</td>\n",
       "      <td>2024-01-01</td>\n",
       "      <td>LOWG</td>\n",
       "      <td>Graz</td>\n",
       "      <td>Austria</td>\n",
       "      <td>6</td>\n",
       "      <td>8</td>\n",
       "      <td>14</td>\n",
       "    </tr>\n",
       "    <tr>\n",
       "      <th>3</th>\n",
       "      <td>2024</td>\n",
       "      <td>1</td>\n",
       "      <td>JAN</td>\n",
       "      <td>2024-01-01</td>\n",
       "      <td>LOWI</td>\n",
       "      <td>Innsbruck</td>\n",
       "      <td>Austria</td>\n",
       "      <td>22</td>\n",
       "      <td>25</td>\n",
       "      <td>47</td>\n",
       "    </tr>\n",
       "    <tr>\n",
       "      <th>4</th>\n",
       "      <td>2024</td>\n",
       "      <td>1</td>\n",
       "      <td>JAN</td>\n",
       "      <td>2024-01-01</td>\n",
       "      <td>LOWK</td>\n",
       "      <td>Klagenfurt</td>\n",
       "      <td>Austria</td>\n",
       "      <td>2</td>\n",
       "      <td>2</td>\n",
       "      <td>4</td>\n",
       "    </tr>\n",
       "  </tbody>\n",
       "</table>\n",
       "</div>"
      ],
      "text/plain": [
       "   Year  Month Code Month Flight Date Airport ICAO Code Airport Name  Country  \\\n",
       "0  2024           1   JAN  2024-01-01              LATI       Tirana  Albania   \n",
       "1  2024           1   JAN  2024-01-01              UDYZ      Yerevan  Armenia   \n",
       "2  2024           1   JAN  2024-01-01              LOWG         Graz  Austria   \n",
       "3  2024           1   JAN  2024-01-01              LOWI    Innsbruck  Austria   \n",
       "4  2024           1   JAN  2024-01-01              LOWK   Klagenfurt  Austria   \n",
       "\n",
       "   Number of Departures  Number of Arrivals  Total flights  \n",
       "0                    73                  74            147  \n",
       "1                    52                  48            100  \n",
       "2                     6                   8             14  \n",
       "3                    22                  25             47  \n",
       "4                     2                   2              4  "
      ]
     },
     "execution_count": 69,
     "metadata": {},
     "output_type": "execute_result"
    }
   ],
   "source": [
    "data.head(5)"
   ]
  },
  {
   "cell_type": "code",
   "execution_count": null,
   "id": "a04f1842-e7df-4d09-8050-668b0d48bdc1",
   "metadata": {},
   "outputs": [],
   "source": [
    "## Check for duplicates in the set"
   ]
  },
  {
   "cell_type": "code",
   "execution_count": 75,
   "id": "80b8cd4a-8968-4265-b927-f02ff186f1b9",
   "metadata": {},
   "outputs": [
    {
     "name": "stdout",
     "output_type": "stream",
     "text": [
      "False\n"
     ]
    }
   ],
   "source": [
    "duplicates_exist = data.duplicated().any()\n",
    "print(duplicates_exist)"
   ]
  },
  {
   "cell_type": "markdown",
   "id": "2bd6da2e-4ac6-4527-a69e-ce64eb1a6ddd",
   "metadata": {},
   "source": [
    "There are no duplicate values in the data set. "
   ]
  },
  {
   "cell_type": "code",
   "execution_count": null,
   "id": "5c037792-2c3c-414f-a1da-daede9ea630c",
   "metadata": {},
   "outputs": [],
   "source": [
    "## Check for unique values"
   ]
  },
  {
   "cell_type": "code",
   "execution_count": 76,
   "id": "4555f2d9-c016-4a5a-a950-a03ec0101893",
   "metadata": {},
   "outputs": [
    {
     "name": "stdout",
     "output_type": "stream",
     "text": [
      "Year                       1\n",
      "Month Code                12\n",
      "Month                     12\n",
      "Flight Date              366\n",
      "Airport ICAO Code        331\n",
      "Airport Name             331\n",
      "Country                   42\n",
      "Number of Departures     781\n",
      "Number of Arrivals       783\n",
      "Total flights           1527\n",
      "dtype: int64\n"
     ]
    }
   ],
   "source": [
    "data.nunique()"
   ]
  },
  {
   "cell_type": "code",
   "execution_count": 70,
   "id": "77805548-9be0-45af-986a-d45c3dc4923e",
   "metadata": {},
   "outputs": [],
   "source": [
    "## Export the cleaned data"
   ]
  },
  {
   "cell_type": "code",
   "execution_count": 74,
   "id": "00912a5d-3f39-4eb4-92b6-78997d9f69cf",
   "metadata": {},
   "outputs": [],
   "source": [
    "data.to_csv(os.path.join(r'C:\\\\Users\\\\PC\\\\Desktop\\\\CareerFoundry Data Analytics\\\\airport_traffic_2024_clean.csv'))"
   ]
  }
 ],
 "metadata": {
  "kernelspec": {
   "display_name": "Python [conda env:base] *",
   "language": "python",
   "name": "conda-base-py"
  },
  "language_info": {
   "codemirror_mode": {
    "name": "ipython",
    "version": 3
   },
   "file_extension": ".py",
   "mimetype": "text/x-python",
   "name": "python",
   "nbconvert_exporter": "python",
   "pygments_lexer": "ipython3",
   "version": "3.13.5"
  }
 },
 "nbformat": 4,
 "nbformat_minor": 5
}
